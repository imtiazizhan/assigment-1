{
 "cells": [
  {
   "cell_type": "markdown",
   "metadata": {},
   "source": [
    "# Part -1 Python Basics (Variables)"
   ]
  },
  {
   "cell_type": "markdown",
   "metadata": {},
   "source": [
    "1. Print Your Name with your Father name and Date of birth using suitable escape sequence charactor"
   ]
  },
  {
   "cell_type": "code",
   "execution_count": 1,
   "metadata": {},
   "outputs": [
    {
     "name": "stdout",
     "output_type": "stream",
     "text": [
      "Name: Syed Izhan\n",
      "Father Name: Syed Imtiaz\n",
      "Date of Birth: 15/12/2000\n"
     ]
    }
   ],
   "source": [
    "# Write your code here\n",
    "print(\"Name: Syed Izhan\\nFather Name: Syed Imtiaz\\nDate of Birth: 15/12/2000\")"
   ]
  },
  {
   "cell_type": "markdown",
   "metadata": {},
   "source": [
    "2. Write your small bio using variables and print it using print function"
   ]
  },
  {
   "cell_type": "code",
   "execution_count": 7,
   "metadata": {},
   "outputs": [
    {
     "name": "stdout",
     "output_type": "stream",
     "text": [
      "My name is Syed Izhan, My father's name is Syed Imtiaz, My Date of birth is 15th December 2000, I am currently working as a Teacher, and I am pursuing Master's in English.\n"
     ]
    }
   ],
   "source": [
    "# Write your code here\n",
    "name = \"Syed Izhan\"\n",
    "f_name = \"Syed Imtiaz\"\n",
    "dob = \"15th December 2000\"\n",
    "job = \"Teacher\"\n",
    "education = \"Master's in English\"\n",
    "\n",
    "bio = f\"My name is {name}, My father's name is {f_name}, My Date of birth is {dob}, I am currently working as a {job}, and I am pursuing {education}.\"\n",
    "\n",
    "print(bio)"
   ]
  },
  {
   "cell_type": "markdown",
   "metadata": {},
   "source": [
    "3. Write a program in which use all the operators we can use in Python"
   ]
  },
  {
   "cell_type": "code",
   "execution_count": 8,
   "metadata": {},
   "outputs": [
    {
     "name": "stdout",
     "output_type": "stream",
     "text": [
      "Addition Operator\n",
      "x+y = 24\n",
      "Subtraction Operator\n",
      "x-y = 6\n",
      "Multiplication Operator\n",
      "x*y = 135\n",
      "Division Operator\n",
      "x/y = 1.6666666666666667\n",
      "Floor Division Operator\n",
      "x//y = 1\n",
      "Modulus Operator\n",
      "x%y = 6\n",
      "Exponential Operator\n",
      "x**y = 38443359375\n",
      "Comparison Operators:\n",
      "x = 15, y = 9\n",
      "x == x: False\n",
      "x != y: True\n",
      "x > y: True\n",
      "x < y: False\n",
      "x >= y: True\n",
      "x <= y: False\n",
      "Logical Operators:\n",
      "x = True, y = False\n",
      "x and y = False\n",
      "x or y = True\n",
      "not x = False\n",
      "not y = True\n"
     ]
    }
   ],
   "source": [
    "# Write your code here\n",
    "#Artihmetic Operators\n",
    "x = 15\n",
    "y = 9\n",
    "print (\"Addition Operator\")\n",
    "print (f\"x+y = {x+y}\")\n",
    "\n",
    "print (\"Subtraction Operator\")\n",
    "print (f\"x-y = {x-y}\")\n",
    "\n",
    "print (\"Multiplication Operator\")\n",
    "print (f\"x*y = {x*y}\")\n",
    "\n",
    "print (\"Division Operator\")\n",
    "print (f\"x/y = {x/y}\")\n",
    "\n",
    "print (\"Floor Division Operator\")\n",
    "print (f\"x//y = {x//y}\")\n",
    "\n",
    "print (\"Modulus Operator\")\n",
    "print (f\"x%y = {x%y}\")\n",
    "\n",
    "print (\"Exponential Operator\")\n",
    "print (f\"x**y = {x**y}\")\n",
    "\n",
    "print(\"Comparison Operators:\")\n",
    "print(f\"x = {x}, y = {y}\")\n",
    "print(f\"x == x: {x == y}\")  # Equal\n",
    "print(f\"x != y: {x != y}\")  # Not equal\n",
    "print(f\"x > y: {x > y}\")    # Greater than\n",
    "print(f\"x < y: {x < y}\")    # Less than\n",
    "print(f\"x >= y: {x >= y}\")  # Greater than or equal to\n",
    "print(f\"x <= y: {x <= y}\")  # Less than or equal to\n",
    "\n",
    "# Logical Operators\n",
    "x = True\n",
    "y = False\n",
    "\n",
    "print(\"Logical Operators:\")\n",
    "print(f\"x = {x}, y = {y}\")\n",
    "print(f\"x and y = {x and y}\")    # Logical AND\n",
    "print(f\"x or y = {x or y}\")      # Logical OR\n",
    "print(f\"not x = {not x}\")        # Logical NOT\n",
    "print(f\"not y = {not y}\")        # Logical NOT"
   ]
  },
  {
   "cell_type": "markdown",
   "metadata": {},
   "source": [
    "4. Completes the following steps of small task:\n",
    "    - Mention Marks of English , Islamiat and Maths out of 100 in 3 different variables\n",
    "    - Mention Variable of Total Marks and assign 300 to it\n",
    "    - Calculate Percentage"
   ]
  },
  {
   "cell_type": "code",
   "execution_count": 9,
   "metadata": {},
   "outputs": [
    {
     "name": "stdout",
     "output_type": "stream",
     "text": [
      "you got 87.0 percentage.\n"
     ]
    }
   ],
   "source": [
    "# Write your code here\n",
    "English = 98\n",
    "Islamiat = 65\n",
    "Maths = 99\n",
    "Total = 300\n",
    "Obtained_Total = English + Islamiat + Maths\n",
    "x = round((Obtained_Total/Total)*100,0)\n",
    "print(f\"you got {x} percentage.\")"
   ]
  },
  {
   "cell_type": "markdown",
   "metadata": {},
   "source": [
    "# Part -2 Python Basics (Conditional Statements)"
   ]
  },
  {
   "cell_type": "markdown",
   "metadata": {},
   "source": [
    "1) A company decided to give bonus of 5% to employee if his/her year of service is more than 5 years.\n",
    "Ask user for their salary and year of service and print the net bonus amount."
   ]
  },
  {
   "cell_type": "code",
   "execution_count": 10,
   "metadata": {},
   "outputs": [
    {
     "name": "stdin",
     "output_type": "stream",
     "text": [
      "What is your current Salary?  4500\n",
      "How many years have you been in this company?  8\n"
     ]
    },
    {
     "name": "stdout",
     "output_type": "stream",
     "text": [
      "your net bonous on salary will be = 225.0\n"
     ]
    }
   ],
   "source": [
    "#Type your code here\n",
    "salary = int(input(\"What is your current Salary? \"))\n",
    "service = int(input(\"How many years have you been in this company? \" ))\n",
    "if service > 5:\n",
    "    increment = salary*0.05\n",
    "    print(f\"your net bonous on salary will be = {increment}\")\n",
    "else:\n",
    "    print(\"sorry you are not eligible for bonus of this year!\")"
   ]
  },
  {
   "cell_type": "markdown",
   "metadata": {},
   "source": [
    "\n",
    "2) Write a program to check whether a person is eligible for voting or not. (accept age from user) if age is greater than 17 eligible otherwise not eligible"
   ]
  },
  {
   "cell_type": "code",
   "execution_count": 11,
   "metadata": {},
   "outputs": [
    {
     "name": "stdin",
     "output_type": "stream",
     "text": [
      "What is your age?  20\n"
     ]
    },
    {
     "name": "stdout",
     "output_type": "stream",
     "text": [
      "you are eligible to vote\n"
     ]
    }
   ],
   "source": [
    "#Type your code here\n",
    "age = int(input(\"What is your age? \"))\n",
    "if age >17:\n",
    "    print(\"you are eligible to vote\")\n",
    "else:\n",
    "    print(\"you are not eligible to vote\")"
   ]
  },
  {
   "cell_type": "markdown",
   "metadata": {},
   "source": [
    "\n",
    "3) Write a program to check whether a number entered by user is even or odd."
   ]
  },
  {
   "cell_type": "code",
   "execution_count": 12,
   "metadata": {},
   "outputs": [
    {
     "name": "stdin",
     "output_type": "stream",
     "text": [
      "Write a number you want to check:  89\n"
     ]
    },
    {
     "name": "stdout",
     "output_type": "stream",
     "text": [
      "It is an odd number\n"
     ]
    }
   ],
   "source": [
    "#Type your code here\n",
    "num = int(input(\"Write a number you want to check: \"))\n",
    "if num%2==0:\n",
    "    print(\"It is an even number\")\n",
    "else:\n",
    "    print(\"It is an odd number\")"
   ]
  },
  {
   "cell_type": "markdown",
   "metadata": {},
   "source": [
    "4) Write a program to check whether a number is divisible by 7 or not.\n",
    "Show Answer"
   ]
  },
  {
   "cell_type": "code",
   "execution_count": 14,
   "metadata": {},
   "outputs": [
    {
     "name": "stdin",
     "output_type": "stream",
     "text": [
      "Write a number you want to check:  49\n"
     ]
    },
    {
     "name": "stdout",
     "output_type": "stream",
     "text": [
      "It is divisbile by 7\n"
     ]
    }
   ],
   "source": [
    "#Type your code here\n",
    "num = int(input(\"Write a number you want to check: \"))\n",
    "if num%7==0:\n",
    "    print(\"It is divisbile by 7\")\n",
    "else:\n",
    "    print(\"It is not divisble by 7\")"
   ]
  },
  {
   "cell_type": "markdown",
   "metadata": {},
   "source": [
    "5) Write a program to display \n",
    "\"Hello\" if a number entered by user is a multiple of five , otherwise print \"Bye\"."
   ]
  },
  {
   "cell_type": "code",
   "execution_count": 15,
   "metadata": {},
   "outputs": [
    {
     "name": "stdin",
     "output_type": "stream",
     "text": [
      "Write a number you want to check:  65\n"
     ]
    },
    {
     "name": "stdout",
     "output_type": "stream",
     "text": [
      "Hello\n"
     ]
    }
   ],
   "source": [
    "#Type your code here\n",
    "num = int(input(\"Write a number you want to check: \"))\n",
    "if num%5==0:\n",
    "    print(\"Hello\")\n",
    "else:\n",
    "    print(\"Bye\")\n"
   ]
  },
  {
   "cell_type": "markdown",
   "metadata": {},
   "source": [
    "7) Write a program to display the last digit of a number.\n"
   ]
  },
  {
   "cell_type": "code",
   "execution_count": 16,
   "metadata": {},
   "outputs": [
    {
     "name": "stdin",
     "output_type": "stream",
     "text": [
      "Write a number:  768\n"
     ]
    },
    {
     "name": "stdout",
     "output_type": "stream",
     "text": [
      "The last digit of your given number is 8\n"
     ]
    }
   ],
   "source": [
    "#Type your code here\n",
    "num = (input(\"Write a number: \"))\n",
    "list1 = list(num)\n",
    "length = len(list1)\n",
    "Last_digit=(list1[length-1])\n",
    "print(f\"The last digit of your given number is {Last_digit}\")"
   ]
  },
  {
   "cell_type": "markdown",
   "metadata": {},
   "source": [
    "9) Take values of length and breadth of a rectangle from user and print if it is square or rectangle."
   ]
  },
  {
   "cell_type": "code",
   "execution_count": 17,
   "metadata": {},
   "outputs": [
    {
     "name": "stdin",
     "output_type": "stream",
     "text": [
      "Enter the length of shape:  32\n",
      "Enter the breadth of shape:  32\n"
     ]
    },
    {
     "name": "stdout",
     "output_type": "stream",
     "text": [
      "It is a square shape.\n"
     ]
    }
   ],
   "source": [
    "#Type your code here \n",
    "length = int(input(\"Enter the length of shape: \"))\n",
    "breadth = int(input(\"Enter the breadth of shape: \"))\n",
    "if length == breadth:\n",
    "    print(\"It is a square shape.\")\n",
    "else:\n",
    "    print(\"It is a rectangular shape.\")"
   ]
  },
  {
   "cell_type": "markdown",
   "metadata": {},
   "source": [
    "10) Take two int values from user and print greatest among them."
   ]
  },
  {
   "cell_type": "code",
   "execution_count": 18,
   "metadata": {},
   "outputs": [
    {
     "name": "stdin",
     "output_type": "stream",
     "text": [
      "Enter 1st Number:  13\n",
      "Enter 2nd Number:  89\n"
     ]
    },
    {
     "name": "stdout",
     "output_type": "stream",
     "text": [
      "89 is greater than 13\n"
     ]
    }
   ],
   "source": [
    "# Type your code here\n",
    "num_1 = int(input(\"Enter 1st Number: \"))\n",
    "num_2 = int(input(\"Enter 2nd Number: \"))\n",
    "if num_1==num_2:\n",
    "    print(\"Both numbers are equal.\")\n",
    "elif num_1>num_2:\n",
    "    print(f\"{num_1} is greater than {num_2}\")\n",
    "else:\n",
    "    print(f\"{num_2} is greater than {num_1}\")"
   ]
  },
  {
   "cell_type": "markdown",
   "metadata": {},
   "source": [
    "11) A shop will give discount of 10% if the cost of purchased quantity is more than 1000.\n",
    "Ask user for quantity\n",
    "Suppose, one unit will cost 100.\n",
    "Judge and print total cost for user."
   ]
  },
  {
   "cell_type": "code",
   "execution_count": 19,
   "metadata": {},
   "outputs": [
    {
     "name": "stdin",
     "output_type": "stream",
     "text": [
      "What is the quantity do you want to buy?  1260\n"
     ]
    },
    {
     "name": "stdout",
     "output_type": "stream",
     "text": [
      "Wow! you got 10% discount\n",
      "your total bill was 126000\n",
      "After discount you have to pay 113400.0\n"
     ]
    }
   ],
   "source": [
    "#Type your code here\n",
    "quantity = int(input(\"What is the quantity do you want to buy? \"))\n",
    "one_cost = 100\n",
    "total_bill=one_cost*quantity\n",
    "dis_bill = total_bill-(total_bill*0.1)\n",
    "if quantity>1000:\n",
    "    print(\"Wow! you got 10% discount\")\n",
    "    print(f\"your total bill was {total_bill}\")\n",
    "    print(f\"After discount you have to pay {dis_bill}\")\n",
    "else:\n",
    "    print(f\"you have to pay {total_bill}\")"
   ]
  },
  {
   "cell_type": "markdown",
   "metadata": {},
   "source": [
    "12) A school has following rules for grading system:\n",
    "\n",
    "a. Below 25 - F\n",
    "\n",
    "b. 25 to 45 - E\n",
    "\n",
    "c. 45 to 50 - D\n",
    "\n",
    "d. 50 to 60 - C\n",
    "\n",
    "e. 60 to 80 - B\n",
    "\n",
    "f. Above 80 - A\n",
    "\n",
    "Ask user to enter marks and print the corresponding grade."
   ]
  },
  {
   "cell_type": "code",
   "execution_count": 20,
   "metadata": {},
   "outputs": [
    {
     "name": "stdin",
     "output_type": "stream",
     "text": [
      "Enter your marks?  76\n"
     ]
    },
    {
     "name": "stdout",
     "output_type": "stream",
     "text": [
      "you have scored B grade\n"
     ]
    }
   ],
   "source": [
    "#Type your code here\n",
    "#Type your code here\n",
    "marks = int(input(\"Enter your marks? \"))\n",
    "if marks>=80:\n",
    "    print (\"you have scored A grade\")\n",
    "elif marks>=60:\n",
    "    print(\"you have scored B grade\")\n",
    "elif marks>=50:\n",
    "    print(\"you have scored C grade\")\n",
    "elif marks>=45:\n",
    "    print(\"you have scored D grade\")\n",
    "elif marks>=25:\n",
    "    print(\"you have scored E grade\")\n",
    "else:\n",
    "    print(\"you have scored F grade\")"
   ]
  },
  {
   "cell_type": "markdown",
   "metadata": {},
   "source": [
    "14)A student will not be allowed to sit in exam if his/her attendence is less than 75%.\n",
    "\n",
    "Take following input from user\n",
    "\n",
    "- Number of classes held\n",
    "\n",
    "- Number of classes attended.\n",
    "\n",
    "And print\n",
    "\n",
    "- percentage of class attended\n",
    "\n",
    "- Is student is allowed to sit in exam or not.\n"
   ]
  },
  {
   "cell_type": "code",
   "execution_count": 21,
   "metadata": {},
   "outputs": [
    {
     "name": "stdin",
     "output_type": "stream",
     "text": [
      "Write the number of Total classes held in this course.  60\n",
      "How many classes you have taken of this course.  59\n"
     ]
    },
    {
     "name": "stdout",
     "output_type": "stream",
     "text": [
      "your class attendence percentage is 98.0\n",
      "congratulation! you are allowed to sit in exam.\n"
     ]
    }
   ],
   "source": [
    "#Type your code here\n",
    "total_classes=int(input(\"Write the number of Total classes held in this course. \"))\n",
    "taken_classes=int(input(\"How many classes you have taken of this course. \"))\n",
    "percentage=round((taken_classes/total_classes)*100,0)\n",
    "print(f\"your class attendence percentage is {percentage}\")\n",
    "if percentage>=75:\n",
    "    print(\"congratulation! you are allowed to sit in exam.\")\n",
    "else:\n",
    "    print(\"sorry, you are not allowed to sit in exams\")"
   ]
  },
  {
   "cell_type": "markdown",
   "metadata": {},
   "source": [
    "15) Modify the above question to allow student to sit if he/she has medical cause. Ask user if he/she has medical cause or not ( 'Y' or 'N' ) and print accordingly."
   ]
  },
  {
   "cell_type": "code",
   "execution_count": 22,
   "metadata": {},
   "outputs": [
    {
     "name": "stdin",
     "output_type": "stream",
     "text": [
      "Write the number of Total classes held in this course.  76\n",
      "How many classes you have taken of this course.  45\n"
     ]
    },
    {
     "name": "stdout",
     "output_type": "stream",
     "text": [
      "your class attendence percentage is 59.0\n"
     ]
    },
    {
     "name": "stdin",
     "output_type": "stream",
     "text": [
      "Do you have a medical cause?('Y' or 'N') n\n"
     ]
    },
    {
     "name": "stdout",
     "output_type": "stream",
     "text": [
      "sorry, you are not allowed to sit in exams\n"
     ]
    }
   ],
   "source": [
    "#Type your code here\n",
    "total_classes=int(input(\"Write the number of Total classes held in this course. \"))\n",
    "taken_classes=int(input(\"How many classes you have taken of this course. \"))\n",
    "percentage=round((taken_classes/total_classes)*100,0)\n",
    "print(f\"your class attendence percentage is {percentage}\")\n",
    "\n",
    "if percentage>=85:\n",
    "    print(\"congratulation! you are allowed to sit in exam.\")\n",
    "else:\n",
    "    medical_condition=input(\"Do you have a medical cause?('Y' or 'N')\")\n",
    "    if medical_condition==\"Y\":\n",
    "        print(\"you are allowed to sit because of medical cause.\")\n",
    "    else:\n",
    "        print(\"sorry, you are not allowed to sit in exams\")"
   ]
  },
  {
   "cell_type": "markdown",
   "metadata": {},
   "source": [
    "16) Write a program to check if a year is leap year or not.\n",
    "\n",
    "If a year is divisible by 4 then it is leap year but if the year is century year like 2000, 1900, 2100 then it must be divisible by 400."
   ]
  },
  {
   "cell_type": "code",
   "execution_count": 23,
   "metadata": {},
   "outputs": [
    {
     "name": "stdin",
     "output_type": "stream",
     "text": [
      "which year do you want to check? 2022\n"
     ]
    },
    {
     "name": "stdout",
     "output_type": "stream",
     "text": [
      "Not a leap year\n"
     ]
    }
   ],
   "source": [
    "#Type your code here\n",
    "year = int(input(\"which year do you want to check?\"))\n",
    "if year % 4 ==0:\n",
    "    if year % 100 == 0:\n",
    "        if year % 400 == 0:\n",
    "            print(\"It's a leap year\")\n",
    "        else:\n",
    "            print(\"Not a leap year\")\n",
    "    else:\n",
    "        print(\"It's a leap year\")\n",
    "else:\n",
    "    print(\"Not a leap year\")"
   ]
  },
  {
   "cell_type": "markdown",
   "metadata": {},
   "source": [
    "17) Ask user to enter age, gender ( M or F ), marital status ( Y or N ) and then using following rules print their place of service.\n",
    "\n",
    "if employee is female, then she will work only in urban areas.\n",
    "\n",
    "if employee is a male and age is in between 20 to 40 then he may work in anywhere\n",
    "\n",
    "if employee is male and age is in between 40 t0 60 then he will work in urban areas only.\n",
    "\n",
    "And any other input of age should print \"ERROR\""
   ]
  },
  {
   "cell_type": "code",
   "execution_count": 24,
   "metadata": {},
   "outputs": [
    {
     "name": "stdin",
     "output_type": "stream",
     "text": [
      "What is your age?  25\n",
      "What is your Gender (M or F)?  M\n",
      "Are you Married (Y or N)?  N\n"
     ]
    },
    {
     "name": "stdout",
     "output_type": "stream",
     "text": [
      "You can work anywhere\n"
     ]
    }
   ],
   "source": [
    "#Type your code here\n",
    "age = int(input(\"What is your age? \"))\n",
    "gender = input(\"What is your Gender (M or F)? \")\n",
    "marital_status=input(\"Are you Married (Y or N)? \")\n",
    "if gender == \"F\":\n",
    "    print(\"You have to work only in Urban Areas.\")\n",
    "elif gender == \"M\" and age >= 40:\n",
    "    print (\"You have to work in Urban Areas only.\")\n",
    "elif gender == \"M\" and age >=20:\n",
    "    print (\"You can work anywhere\")\n",
    "else:\n",
    "    print(\"ERROR\")"
   ]
  },
  {
   "cell_type": "markdown",
   "metadata": {},
   "source": [
    "6) Write a program to calculate the electricity bill (accept number of unit from user) according to the following criteria :\n",
    "     Unit                                                     Price  \n",
    "uptp 100 units                                             no charge\n",
    "Next 200 units                                              Rs 5 per unit\n",
    "After 200 units                                             Rs 10 per unit\n",
    "(For example if input unit is 350 than total bill amount is Rs.3500\n",
    "(For example if input unit is 97 than total bill amount is Rs.0\n",
    "(For example if input unit is 150 than total bill amount is Rs.750"
   ]
  },
  {
   "cell_type": "markdown",
   "metadata": {},
   "source": [
    "13) Take input of age of 3 people by user and determine oldest and youngest among them."
   ]
  },
  {
   "cell_type": "code",
   "execution_count": 25,
   "metadata": {},
   "outputs": [
    {
     "name": "stdin",
     "output_type": "stream",
     "text": [
      "What are the number of units you consume?  45\n"
     ]
    },
    {
     "name": "stdout",
     "output_type": "stream",
     "text": [
      "You have to pay no charge.\n"
     ]
    }
   ],
   "source": [
    "#Type your code here\n",
    "units = int(input(\"What are the number of units you consume? \"))\n",
    "if units <= 100:\n",
    "    print(\"You have to pay no charge.\")\n",
    "elif units <=200:\n",
    "    charge = units*5\n",
    "    print(f\"you have to pay {charge} Rupees.\")\n",
    "else:\n",
    "    charge = units * 10\n",
    "    print(f\"you have to pay {charge} Rupees.\")"
   ]
  }
 ],
 "metadata": {
  "kernelspec": {
   "display_name": "Python 3 (ipykernel)",
   "language": "python",
   "name": "python3"
  },
  "language_info": {
   "codemirror_mode": {
    "name": "ipython",
    "version": 3
   },
   "file_extension": ".py",
   "mimetype": "text/x-python",
   "name": "python",
   "nbconvert_exporter": "python",
   "pygments_lexer": "ipython3",
   "version": "3.11.7"
  }
 },
 "nbformat": 4,
 "nbformat_minor": 4
}
